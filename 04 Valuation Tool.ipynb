{
 "cells": [
  {
   "cell_type": "code",
   "execution_count": 1,
   "id": "d205302b",
   "metadata": {},
   "outputs": [],
   "source": [
    "from sklearn.datasets import load_boston\n",
    "from sklearn.linear_model import LinearRegression\n",
    "from sklearn.metrics import mean_squared_error\n",
    "\n",
    "import pandas as pd\n",
    "import numpy as np\n",
    "\n",
    "import warnings\n",
    "warnings.filterwarnings('ignore')"
   ]
  },
  {
   "cell_type": "code",
   "execution_count": 5,
   "id": "295c5a7f",
   "metadata": {},
   "outputs": [
    {
     "data": {
      "text/plain": [
       "(506, 1)"
      ]
     },
     "execution_count": 5,
     "metadata": {},
     "output_type": "execute_result"
    }
   ],
   "source": [
    "#Gather Data\n",
    "boston_dataset = load_boston()\n",
    "\n",
    "data = pd.DataFrame(data = boston_dataset.data, columns = boston_dataset.feature_names)\n",
    "features = data.drop(['INDUS','AGE'],axis=1)\n",
    "log_prices = np.log(boston_dataset.target)\n",
    "\n",
    "log_prices.shape  # --> array\n",
    "target = pd.DataFrame(log_prices, columns = ['PRICE'])\n",
    "target.shape"
   ]
  },
  {
   "cell_type": "code",
   "execution_count": 6,
   "id": "98f611c2",
   "metadata": {},
   "outputs": [],
   "source": [
    "CRIM_IDX = 0\n",
    "ZN_IDX = 1\n",
    "CHAS_IDX = 2\n",
    "RM_IDX = 4\n",
    "PTRATIO_IDX = 8\n",
    "\n",
    "#property_stats = np.ndarray(shape=(1,11))\n",
    "#property_stats[0][CRIM_IDX] = features['CRIM'].mean()\n",
    "#property_stats[0][ZN_IDX] = features['ZN'].mean()\n",
    "#property_stats[0][CHAS_IDX] = features['CHAS'].mean()\n",
    "\n",
    "property_stats = features.mean().values.reshape(1,11)\n",
    "# So we have a property, a single row, 11 features, they all have a value\n",
    "\n",
    "# and in this case, the value is just the average of all the 506 properties in the dataset."
   ]
  },
  {
   "cell_type": "code",
   "execution_count": 7,
   "id": "7259df93",
   "metadata": {},
   "outputs": [
    {
     "data": {
      "text/plain": [
       "CRIM         3.613524\n",
       "ZN          11.363636\n",
       "CHAS         0.069170\n",
       "NOX          0.554695\n",
       "RM           6.284634\n",
       "DIS          3.795043\n",
       "RAD          9.549407\n",
       "TAX        408.237154\n",
       "PTRATIO     18.455534\n",
       "B          356.674032\n",
       "LSTAT       12.653063\n",
       "dtype: float64"
      ]
     },
     "execution_count": 7,
     "metadata": {},
     "output_type": "execute_result"
    }
   ],
   "source": [
    "features.mean() # series"
   ]
  },
  {
   "cell_type": "code",
   "execution_count": 8,
   "id": "585a9a20",
   "metadata": {},
   "outputs": [
    {
     "data": {
      "text/plain": [
       "numpy.ndarray"
      ]
     },
     "execution_count": 8,
     "metadata": {},
     "output_type": "execute_result"
    }
   ],
   "source": [
    "type(features.mean().values)"
   ]
  },
  {
   "cell_type": "code",
   "execution_count": 9,
   "id": "cf40d8e9",
   "metadata": {},
   "outputs": [
    {
     "data": {
      "text/plain": [
       "array([[3.61352356e+00, 1.13636364e+01, 6.91699605e-02, 5.54695059e-01,\n",
       "        6.28463439e+00, 3.79504269e+00, 9.54940711e+00, 4.08237154e+02,\n",
       "        1.84555336e+01, 3.56674032e+02, 1.26530632e+01]])"
      ]
     },
     "execution_count": 9,
     "metadata": {},
     "output_type": "execute_result"
    }
   ],
   "source": [
    "features.mean().values.reshape(1,11)"
   ]
  },
  {
   "cell_type": "code",
   "execution_count": 10,
   "id": "f018bcef",
   "metadata": {},
   "outputs": [],
   "source": [
    "regr = LinearRegression()"
   ]
  },
  {
   "cell_type": "code",
   "execution_count": 11,
   "id": "0b6ff1ca",
   "metadata": {},
   "outputs": [
    {
     "data": {
      "text/html": [
       "<style>#sk-container-id-1 {color: black;background-color: white;}#sk-container-id-1 pre{padding: 0;}#sk-container-id-1 div.sk-toggleable {background-color: white;}#sk-container-id-1 label.sk-toggleable__label {cursor: pointer;display: block;width: 100%;margin-bottom: 0;padding: 0.3em;box-sizing: border-box;text-align: center;}#sk-container-id-1 label.sk-toggleable__label-arrow:before {content: \"▸\";float: left;margin-right: 0.25em;color: #696969;}#sk-container-id-1 label.sk-toggleable__label-arrow:hover:before {color: black;}#sk-container-id-1 div.sk-estimator:hover label.sk-toggleable__label-arrow:before {color: black;}#sk-container-id-1 div.sk-toggleable__content {max-height: 0;max-width: 0;overflow: hidden;text-align: left;background-color: #f0f8ff;}#sk-container-id-1 div.sk-toggleable__content pre {margin: 0.2em;color: black;border-radius: 0.25em;background-color: #f0f8ff;}#sk-container-id-1 input.sk-toggleable__control:checked~div.sk-toggleable__content {max-height: 200px;max-width: 100%;overflow: auto;}#sk-container-id-1 input.sk-toggleable__control:checked~label.sk-toggleable__label-arrow:before {content: \"▾\";}#sk-container-id-1 div.sk-estimator input.sk-toggleable__control:checked~label.sk-toggleable__label {background-color: #d4ebff;}#sk-container-id-1 div.sk-label input.sk-toggleable__control:checked~label.sk-toggleable__label {background-color: #d4ebff;}#sk-container-id-1 input.sk-hidden--visually {border: 0;clip: rect(1px 1px 1px 1px);clip: rect(1px, 1px, 1px, 1px);height: 1px;margin: -1px;overflow: hidden;padding: 0;position: absolute;width: 1px;}#sk-container-id-1 div.sk-estimator {font-family: monospace;background-color: #f0f8ff;border: 1px dotted black;border-radius: 0.25em;box-sizing: border-box;margin-bottom: 0.5em;}#sk-container-id-1 div.sk-estimator:hover {background-color: #d4ebff;}#sk-container-id-1 div.sk-parallel-item::after {content: \"\";width: 100%;border-bottom: 1px solid gray;flex-grow: 1;}#sk-container-id-1 div.sk-label:hover label.sk-toggleable__label {background-color: #d4ebff;}#sk-container-id-1 div.sk-serial::before {content: \"\";position: absolute;border-left: 1px solid gray;box-sizing: border-box;top: 0;bottom: 0;left: 50%;z-index: 0;}#sk-container-id-1 div.sk-serial {display: flex;flex-direction: column;align-items: center;background-color: white;padding-right: 0.2em;padding-left: 0.2em;position: relative;}#sk-container-id-1 div.sk-item {position: relative;z-index: 1;}#sk-container-id-1 div.sk-parallel {display: flex;align-items: stretch;justify-content: center;background-color: white;position: relative;}#sk-container-id-1 div.sk-item::before, #sk-container-id-1 div.sk-parallel-item::before {content: \"\";position: absolute;border-left: 1px solid gray;box-sizing: border-box;top: 0;bottom: 0;left: 50%;z-index: -1;}#sk-container-id-1 div.sk-parallel-item {display: flex;flex-direction: column;z-index: 1;position: relative;background-color: white;}#sk-container-id-1 div.sk-parallel-item:first-child::after {align-self: flex-end;width: 50%;}#sk-container-id-1 div.sk-parallel-item:last-child::after {align-self: flex-start;width: 50%;}#sk-container-id-1 div.sk-parallel-item:only-child::after {width: 0;}#sk-container-id-1 div.sk-dashed-wrapped {border: 1px dashed gray;margin: 0 0.4em 0.5em 0.4em;box-sizing: border-box;padding-bottom: 0.4em;background-color: white;}#sk-container-id-1 div.sk-label label {font-family: monospace;font-weight: bold;display: inline-block;line-height: 1.2em;}#sk-container-id-1 div.sk-label-container {text-align: center;}#sk-container-id-1 div.sk-container {/* jupyter's `normalize.less` sets `[hidden] { display: none; }` but bootstrap.min.css set `[hidden] { display: none !important; }` so we also need the `!important` here to be able to override the default hidden behavior on the sphinx rendered scikit-learn.org. See: https://github.com/scikit-learn/scikit-learn/issues/21755 */display: inline-block !important;position: relative;}#sk-container-id-1 div.sk-text-repr-fallback {display: none;}</style><div id=\"sk-container-id-1\" class=\"sk-top-container\"><div class=\"sk-text-repr-fallback\"><pre>LinearRegression()</pre><b>In a Jupyter environment, please rerun this cell to show the HTML representation or trust the notebook. <br />On GitHub, the HTML representation is unable to render, please try loading this page with nbviewer.org.</b></div><div class=\"sk-container\" hidden><div class=\"sk-item\"><div class=\"sk-estimator sk-toggleable\"><input class=\"sk-toggleable__control sk-hidden--visually\" id=\"sk-estimator-id-1\" type=\"checkbox\" checked><label for=\"sk-estimator-id-1\" class=\"sk-toggleable__label sk-toggleable__label-arrow\">LinearRegression</label><div class=\"sk-toggleable__content\"><pre>LinearRegression()</pre></div></div></div></div></div>"
      ],
      "text/plain": [
       "LinearRegression()"
      ]
     },
     "execution_count": 11,
     "metadata": {},
     "output_type": "execute_result"
    }
   ],
   "source": [
    "regr.fit(features, target)"
   ]
  },
  {
   "cell_type": "code",
   "execution_count": 12,
   "id": "6150caf8",
   "metadata": {},
   "outputs": [],
   "source": [
    "fitted_vals=regr.predict(features)"
   ]
  },
  {
   "cell_type": "markdown",
   "id": "f3e8ec54",
   "metadata": {},
   "source": [
    "Calculate MSE,RMSE using sickit learn\n",
    "\n",
    "from sklearn.metrics import mean_squared_error\n",
    "\n",
    "print('Mean Square error is:',mean_squared_error(target,fitted_vals))\n",
    "print('Root Mean Square error is:',np.sqrt(mean_squared_error(target,fitted_vals)))\n",
    "\n",
    "or below code"
   ]
  },
  {
   "cell_type": "code",
   "execution_count": 13,
   "id": "bad3fe30",
   "metadata": {},
   "outputs": [],
   "source": [
    "MSE = mean_squared_error(target,fitted_vals)\n",
    "RMSE = np.sqrt(MSE)"
   ]
  },
  {
   "cell_type": "code",
   "execution_count": null,
   "id": "49494a65",
   "metadata": {},
   "outputs": [],
   "source": [
    "# create a function which estimate log house prices for a specific property "
   ]
  },
  {
   "cell_type": "code",
   "execution_count": 14,
   "id": "c6263164",
   "metadata": {},
   "outputs": [],
   "source": [
    "# review function code\n",
    "def get_log_estimate():\n",
    "    \n",
    "    log_estimate = 21\n",
    "    \n",
    "    return log_estimate"
   ]
  },
  {
   "cell_type": "code",
   "execution_count": 15,
   "id": "530dd4f5",
   "metadata": {},
   "outputs": [
    {
     "data": {
      "text/plain": [
       "21"
      ]
     },
     "execution_count": 15,
     "metadata": {},
     "output_type": "execute_result"
    }
   ],
   "source": [
    "get_log_estimate()"
   ]
  },
  {
   "cell_type": "code",
   "execution_count": 16,
   "id": "d3c18ef0",
   "metadata": {},
   "outputs": [],
   "source": [
    "# review function code with arguments\n",
    "# if our function has a argument we need to provide arguments in the call as well\n",
    "# Here we make two of these arguments optional \n",
    "def get_log_estimate(nr_rooms,\n",
    "                    students_per_classroom,\n",
    "                    next_to_river = False,\n",
    "                    high_confidence = True):\n",
    "    \n",
    "    log_estimate = 21\n",
    "    \n",
    "    return log_estimate"
   ]
  },
  {
   "cell_type": "code",
   "execution_count": 17,
   "id": "cf035a87",
   "metadata": {},
   "outputs": [
    {
     "data": {
      "text/plain": [
       "21"
      ]
     },
     "execution_count": 17,
     "metadata": {},
     "output_type": "execute_result"
    }
   ],
   "source": [
    "get_log_estimate(5,19)"
   ]
  },
  {
   "cell_type": "code",
   "execution_count": null,
   "id": "4bb87963",
   "metadata": {},
   "outputs": [],
   "source": [
    " #What we want is a function to return the price estimate for a particular property\n",
    " # so we're going to use our regression object, regr, and the predict method on that object\n",
    " #and then, as an argument to the predict method, we need to supply a single row of features. \n",
    "    \n",
    " # That single row will be our property_stats, which currently hold on to the average values for all the features in\n",
    "\n",
    " # our dataset."
   ]
  },
  {
   "cell_type": "code",
   "execution_count": 37,
   "id": "71909479",
   "metadata": {},
   "outputs": [],
   "source": [
    "def get_log_estimate(nr_rooms,\n",
    "                    students_per_classroom,\n",
    "                    next_to_river= False,\n",
    "                    high_confidence = True):\n",
    "    \n",
    "    # configure property\n",
    "    property_stats[0][RM_IDX] = nr_rooms\n",
    "    property_stats[0][PTRATIO_IDX] = students_per_classroom\n",
    "    \n",
    "    if next_to_river:\n",
    "        property_stats[0][CHAS_IDX] = 1\n",
    "    else:\n",
    "        property_stats[0][CHAS_IDX] = 0    \n",
    "    \n",
    "    \n",
    "    # Make prediction\n",
    "    log_estimate = regr.predict(property_stats)[0][0]\n",
    "    \n",
    "    # Calculate Range \n",
    "    if high_confidence:\n",
    "        upper_bound = log_estimate + 2*RMSE\n",
    "        lower_bound = log_estimate - 2*RMSE\n",
    "        interval = 95\n",
    "    else:\n",
    "        upper_bound = log_estimate + 1*RMSE\n",
    "        lower_bound = log_estimate - 1*RMSE\n",
    "        interval = 68\n",
    "    \n",
    "    return log_estimate,upper_bound ,lower_bound, interval"
   ]
  },
  {
   "cell_type": "code",
   "execution_count": 38,
   "id": "9a105461",
   "metadata": {},
   "outputs": [
    {
     "data": {
      "text/plain": [
       "(2.7767581914803996, 3.15178246187466, 2.401733921086139, 95)"
      ]
     },
     "execution_count": 38,
     "metadata": {},
     "output_type": "execute_result"
    }
   ],
   "source": [
    "get_log_estimate(3,20,next_to_river= True) #now the high_confidence  is true -> 95"
   ]
  },
  {
   "cell_type": "code",
   "execution_count": 39,
   "id": "2f6ffbc7",
   "metadata": {},
   "outputs": [
    {
     "data": {
      "text/plain": [
       "21.2"
      ]
     },
     "execution_count": 39,
     "metadata": {},
     "output_type": "execute_result"
    }
   ],
   "source": [
    "np.median(boston_dataset.target)"
   ]
  },
  {
   "cell_type": "code",
   "execution_count": 53,
   "id": "3b3254ac",
   "metadata": {},
   "outputs": [
    {
     "name": "stdout",
     "output_type": "stream",
     "text": [
      "The estimated property value is: 826729.0.\n",
      "At 68% the confidence the valuation range is\n",
      "USD:685374.0 at the lower end to 997237.0 at the high end.\n"
     ]
    }
   ],
   "source": [
    "# Challenge: Write the code that converts the log price estimate using 1970s prices\n",
    "# as well as lower bound upper bound to today's price\n",
    "#round the value\n",
    "\n",
    "#from zillow website\n",
    "ZILLOW_MEDIAN_PRICE = 583.3\n",
    "SCALE_FACTOR = ZILLOW_MEDIAN_PRICE /np.median(boston_dataset.target)\n",
    "SCALE_FACTOR\n",
    "\n",
    "# call Function\n",
    "log_est, upper, lower, conf = get_log_estimate(9,students_per_classroom = 15,\n",
    "                                              next_to_river= False, high_confidence= False )\n",
    "\n",
    "# Convert to today's dollars --> reversing the log transformation\n",
    "dollar_est= np.e**log_est *1000 *SCALE_FACTOR\n",
    "dollar_hi= np.e**upper *1000 *SCALE_FACTOR\n",
    "dollar_low= np.e**lower *1000 *SCALE_FACTOR\n",
    "\n",
    "# Round the dollar values to nearest thousand \n",
    "rounded_est = np.around(dollar_est)\n",
    "rounded_hi = np.around(dollar_hi)\n",
    "rounded_low = np.around(dollar_low)\n",
    "\n",
    "print(f'The estimated property value is: {rounded_est}.')\n",
    "print(f'At {conf}% the confidence the valuation range is')\n",
    "print(f'USD:{rounded_low} at the lower end to {rounded_hi} at the high end.')"
   ]
  },
  {
   "cell_type": "code",
   "execution_count": 69,
   "id": "28541479",
   "metadata": {},
   "outputs": [],
   "source": [
    "def get_dollar_estimate(rm,ptratio, chas=False, large_range=True):\n",
    "    \"\"\" Estimate the price of a property in boston\n",
    "    keyword arguments:\n",
    "     rm-- number of rooms in the property\n",
    "     ptratio -- number of students per teacher in the classromm for the school in the area\n",
    "     chas -- True if the property is next to the river, False otherwise\n",
    "     large_range -- True for 95% prediction interval, False for a 68% interval\n",
    "    \"\"\"\n",
    "    if rm < 1 or ptratio < 1:\n",
    "        print('That is unrealistic. Try again')\n",
    "        return\n",
    "    \n",
    "    log_est, upper, lower, conf = get_log_estimate(rm,\n",
    "                                                   ptratio,    \n",
    "                                                   next_to_river= chas, \n",
    "                                                   high_confidence=large_range)\n",
    "   \n",
    "    # Convert to today's dollars --> reversing the log transformation\n",
    "    dollar_est= np.e**log_est *1000 *SCALE_FACTOR\n",
    "    dollar_hi= np.e**upper *1000 *SCALE_FACTOR\n",
    "    dollar_low= np.e**lower *1000 *SCALE_FACTOR\n",
    "\n",
    "    # Round the dollar values to nearest thousand \n",
    "    rounded_est = np.around(dollar_est, -3)\n",
    "    rounded_hi = np.around(dollar_hi, -3)\n",
    "    rounded_low = np.around(dollar_low, -3)\n",
    "\n",
    "    print(f'The estimated property value is: {rounded_est}.')\n",
    "    print(f'At {conf}% the confidence the valuation range is')\n",
    "    print(f'USD:{rounded_low} at the lower end to {rounded_hi} at the high end.')"
   ]
  },
  {
   "cell_type": "code",
   "execution_count": 67,
   "id": "cc3758c8",
   "metadata": {},
   "outputs": [
    {
     "name": "stdout",
     "output_type": "stream",
     "text": [
      "The estimated property value is: 1079000.0.\n",
      "At 95% the confidence the valuation range is\n",
      "USD:742000.0 at the lower end to 1570000.0 at the high end.\n"
     ]
    }
   ],
   "source": [
    "get_dollar_estimate(rm=5, ptratio =-60 , chas=True)\n"
   ]
  },
  {
   "cell_type": "code",
   "execution_count": null,
   "id": "febb6029",
   "metadata": {},
   "outputs": [],
   "source": [
    "# how we can package what is in this Jupyter notebook here as a Python module -> I save as module then i can import it"
   ]
  },
  {
   "cell_type": "code",
   "execution_count": 71,
   "id": "f144cb1e",
   "metadata": {},
   "outputs": [
    {
     "name": "stdout",
     "output_type": "stream",
     "text": [
      "The estimated property value is: 783000.0.\n",
      "At 95% the confidence the valuation range is\n",
      "USD:538000.0 at the lower end to 1139000.0 at the high end.\n"
     ]
    }
   ],
   "source": [
    "import boston_valuation as val\n",
    "val.get_dollar_estimate(6,12,True)"
   ]
  },
  {
   "cell_type": "code",
   "execution_count": null,
   "id": "dd2a57ab",
   "metadata": {},
   "outputs": [],
   "source": []
  }
 ],
 "metadata": {
  "kernelspec": {
   "display_name": "Python 3 (ipykernel)",
   "language": "python",
   "name": "python3"
  },
  "language_info": {
   "codemirror_mode": {
    "name": "ipython",
    "version": 3
   },
   "file_extension": ".py",
   "mimetype": "text/x-python",
   "name": "python",
   "nbconvert_exporter": "python",
   "pygments_lexer": "ipython3",
   "version": "3.10.9"
  }
 },
 "nbformat": 4,
 "nbformat_minor": 5
}
